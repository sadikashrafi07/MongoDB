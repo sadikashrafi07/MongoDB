{
 "cells": [
  {
   "cell_type": "markdown",
   "id": "8b2ffb8c",
   "metadata": {},
   "source": [
    "### Mango Db with Python- Querying Json Documents"
   ]
  },
  {
   "cell_type": "code",
   "execution_count": 1,
   "id": "78f89e6f",
   "metadata": {},
   "outputs": [],
   "source": [
    "import pymongo\n",
    "\n",
    "client=pymongo.MongoClient('mongodb://localhost:27017/')\n",
    "\n",
    "mydb=client['Employee']\n",
    "empinfo=mydb.employeeinformation"
   ]
  },
  {
   "cell_type": "code",
   "execution_count": 2,
   "id": "c50bfb0d",
   "metadata": {},
   "outputs": [
    {
     "data": {
      "text/plain": [
       "InsertOneResult(ObjectId('6622b5a59719e48bb44d212a'), acknowledged=True)"
      ]
     },
     "execution_count": 2,
     "metadata": {},
     "output_type": "execute_result"
    }
   ],
   "source": [
    "record={\n",
    "        'firstname':'Angadi',\n",
    "        'lastname':'Mohammad Sadiq',\n",
    "        'department':'Analytics',\n",
    "        'qualification':'CSE(AI-ML)',\n",
    "        'age':29\n",
    "        }\n",
    "empinfo.insert_one(record)"
   ]
  },
  {
   "cell_type": "code",
   "execution_count": 3,
   "id": "330eecec",
   "metadata": {},
   "outputs": [],
   "source": [
    "records=[{\n",
    "        'firstname':'John',\n",
    "        'lastname':'Doe',\n",
    "        'department':'Analytics',\n",
    "        'qualification':'statistics',\n",
    "        'age':35\n",
    "        \n",
    "        },\n",
    "         {\n",
    "        'firstname':'John ',\n",
    "        'lastname':'Smith',\n",
    "        'department':'Analytics',\n",
    "        'qualification':'masters',\n",
    "        'age':30\n",
    "        \n",
    "        },\n",
    "        {\n",
    "        'firstname':'Manish',\n",
    "        'lastname':'Sen',\n",
    "        'department':'Analytics',\n",
    "        'qualification':'phd',\n",
    "        'age':34\n",
    "        \n",
    "        },\n",
    "        {\n",
    "        'firstname':'Ram',\n",
    "        'lastname':'Singh',\n",
    "        'department':'Analytics',\n",
    "        'qualification':'master',\n",
    "        'age':32\n",
    "        \n",
    "        }]"
   ]
  },
  {
   "cell_type": "code",
   "execution_count": 4,
   "id": "aba442ae",
   "metadata": {},
   "outputs": [
    {
     "data": {
      "text/plain": [
       "InsertManyResult([ObjectId('6622b5b89719e48bb44d212b'), ObjectId('6622b5b89719e48bb44d212c'), ObjectId('6622b5b89719e48bb44d212d'), ObjectId('6622b5b89719e48bb44d212e')], acknowledged=True)"
      ]
     },
     "execution_count": 4,
     "metadata": {},
     "output_type": "execute_result"
    }
   ],
   "source": [
    "empinfo.insert_many(records)"
   ]
  },
  {
   "cell_type": "code",
   "execution_count": 5,
   "id": "6c45e22c",
   "metadata": {},
   "outputs": [
    {
     "data": {
      "text/plain": [
       "{'_id': ObjectId('66227ff2a450c325e7c55ac2'),\n",
       " 'firstname': 'Angadi',\n",
       " 'Middlename': 'Mohammad',\n",
       " 'Lastname': 'Sadiq',\n",
       " 'Department': 'CSE(AI/ML)'}"
      ]
     },
     "execution_count": 5,
     "metadata": {},
     "output_type": "execute_result"
    }
   ],
   "source": [
    "## Simple way of querying\n",
    "empinfo.find_one()"
   ]
  },
  {
   "cell_type": "code",
   "execution_count": 8,
   "id": "a1a9bdf7",
   "metadata": {},
   "outputs": [
    {
     "name": "stdout",
     "output_type": "stream",
     "text": [
      "{'_id': ObjectId('66227ff2a450c325e7c55ac2'), 'firstname': 'Angadi', 'Middlename': 'Mohammad', 'Lastname': 'Sadiq', 'Department': 'CSE(AI/ML)'}\n",
      "{'_id': ObjectId('66228204a450c325e7c55ac6'), 'firstname': 'Angadi', 'Middlename': 'Mohammad', 'Lastname': 'Sadiq', 'Department': 'CSE(AI/ML)'}\n",
      "{'_id': ObjectId('66228204a450c325e7c55ac7'), 'firstname': 'Danish', 'Middlename': 'Shaikh', 'Lastname': 'Irfan', 'Department': 'CSE'}\n",
      "{'_id': ObjectId('66228204a450c325e7c55ac8'), 'firstname': 'Kumar', 'Middlename': 'Shivraj', 'Lastname': 'Bhakat', 'Department': 'Mech'}\n",
      "{'_id': ObjectId('6622b5a59719e48bb44d212a'), 'firstname': 'Angadi', 'lastname': 'Mohammad Sadiq', 'department': 'Analytics', 'qualification': 'CSE(AI-ML)', 'age': 29}\n",
      "{'_id': ObjectId('6622b5b89719e48bb44d212b'), 'firstname': 'John', 'lastname': 'Doe', 'department': 'Analytics', 'qualification': 'statistics', 'age': 35}\n",
      "{'_id': ObjectId('6622b5b89719e48bb44d212c'), 'firstname': 'John ', 'lastname': 'Smith', 'department': 'Analytics', 'qualification': 'masters', 'age': 30}\n",
      "{'_id': ObjectId('6622b5b89719e48bb44d212d'), 'firstname': 'Manish', 'lastname': 'Sen', 'department': 'Analytics', 'qualification': 'phd', 'age': 34}\n",
      "{'_id': ObjectId('6622b5b89719e48bb44d212e'), 'firstname': 'Ram', 'lastname': 'Singh', 'department': 'Analytics', 'qualification': 'master', 'age': 32}\n"
     ]
    }
   ],
   "source": [
    "## Select * from employeeinformation\n",
    "for record in empinfo.find({}):\n",
    "    print(record)\n",
    " "
   ]
  },
  {
   "cell_type": "code",
   "execution_count": 9,
   "id": "9d8100d5",
   "metadata": {},
   "outputs": [
    {
     "name": "stdout",
     "output_type": "stream",
     "text": [
      "{'_id': ObjectId('66227ff2a450c325e7c55ac2'), 'firstname': 'Angadi', 'Middlename': 'Mohammad', 'Lastname': 'Sadiq', 'Department': 'CSE(AI/ML)'}\n",
      "{'_id': ObjectId('66228204a450c325e7c55ac6'), 'firstname': 'Angadi', 'Middlename': 'Mohammad', 'Lastname': 'Sadiq', 'Department': 'CSE(AI/ML)'}\n",
      "{'_id': ObjectId('6622b5a59719e48bb44d212a'), 'firstname': 'Angadi', 'lastname': 'Mohammad Sadiq', 'department': 'Analytics', 'qualification': 'CSE(AI-ML)', 'age': 29}\n"
     ]
    }
   ],
   "source": [
    "## Query the json documents based on equality conditions\n",
    "# Select * from employeeinformation where firstname=krish\n",
    "\n",
    "for record in empinfo.find({'firstname':'Angadi'}):\n",
    "    print(record)"
   ]
  },
  {
   "cell_type": "code",
   "execution_count": 10,
   "id": "664fc381",
   "metadata": {},
   "outputs": [
    {
     "name": "stdout",
     "output_type": "stream",
     "text": [
      "{'_id': ObjectId('6622b5b89719e48bb44d212d'), 'firstname': 'Manish', 'lastname': 'Sen', 'department': 'Analytics', 'qualification': 'phd', 'age': 34}\n",
      "{'_id': ObjectId('6622b5b89719e48bb44d212e'), 'firstname': 'Ram', 'lastname': 'Singh', 'department': 'Analytics', 'qualification': 'master', 'age': 32}\n"
     ]
    }
   ],
   "source": [
    "## Query documents using query operators($in,$lt,$gt)\n",
    "for record in empinfo.find({'qualification':{'$in':['phd','master']}}):\n",
    "    print(record)"
   ]
  },
  {
   "cell_type": "code",
   "execution_count": 15,
   "id": "e04f7176",
   "metadata": {},
   "outputs": [
    {
     "name": "stdout",
     "output_type": "stream",
     "text": [
      "{'_id': ObjectId('6622b5b89719e48bb44d212e'), 'firstname': 'Ram', 'lastname': 'Singh', 'department': 'Analytics', 'qualification': 'master', 'age': 32}\n"
     ]
    }
   ],
   "source": [
    "## And and Query operators\n",
    "for record in empinfo.find({'qualification':'master','age':{'$lt':35}}):\n",
    "    print(record)\n",
    "  "
   ]
  },
  {
   "cell_type": "code",
   "execution_count": 16,
   "id": "2e0f495d",
   "metadata": {},
   "outputs": [
    {
     "name": "stdout",
     "output_type": "stream",
     "text": [
      "{'_id': ObjectId('66227ff2a450c325e7c55ac2'), 'firstname': 'Angadi', 'Middlename': 'Mohammad', 'Lastname': 'Sadiq', 'Department': 'CSE(AI/ML)'}\n",
      "{'_id': ObjectId('66228204a450c325e7c55ac6'), 'firstname': 'Angadi', 'Middlename': 'Mohammad', 'Lastname': 'Sadiq', 'Department': 'CSE(AI/ML)'}\n",
      "{'_id': ObjectId('6622b5a59719e48bb44d212a'), 'firstname': 'Angadi', 'lastname': 'Mohammad Sadiq', 'department': 'Analytics', 'qualification': 'CSE(AI-ML)', 'age': 29}\n"
     ]
    }
   ],
   "source": [
    "## OR operators\n",
    "for record in empinfo.find({'$or':[{'firstname':'Angadi'},{'qualification':'CSE(AI-ML)'}]}):\n",
    "    print(record)"
   ]
  },
  {
   "cell_type": "code",
   "execution_count": 17,
   "id": "a53a7468",
   "metadata": {},
   "outputs": [],
   "source": [
    "inventory=mydb.inventory"
   ]
  },
  {
   "cell_type": "code",
   "execution_count": 18,
   "id": "b14023ec",
   "metadata": {},
   "outputs": [],
   "source": [
    "inventory.insert_many( [\n",
    "   { 'item': \"journal\", 'qty': 25, 'size': { 'h': 14, 'w': 21,'uom': \"cm\" }, 'status': \"A\" },\n",
    "   { 'item': \"notebook\", 'qty': 50,'size': { 'h': 8.5, 'w': 11,'uom': \"in\" },'status': \"A\" },\n",
    "   { 'item': \"paper\", 'qty': 100, 'size': { 'h': 8.5, 'w': 11,'uom': \"in\" },'status': \"D\" },\n",
    "   { 'item': \"planner\", 'qty': 75, 'size': { 'h': 22.85,'w': 30,'uom': \"cm\" },'status': \"D\" },\n",
    "   { 'item': \"postcard\", 'qty': 45, 'size': { 'h': 10, 'w': 15.25,'uom': \"cm\" },'status': \"A\" }\n",
    "]);\n",
    "    "
   ]
  },
  {
   "cell_type": "code",
   "execution_count": 19,
   "id": "7350052a",
   "metadata": {},
   "outputs": [
    {
     "name": "stdout",
     "output_type": "stream",
     "text": [
      "{'_id': ObjectId('66229ef9f609e54602061a1a'), 'item': 'sketchbook', 'qty': 80, 'size': {'h': 14, 'w': 21, 'uom': 'cm'}, 'status': 'A'}\n",
      "{'_id': ObjectId('6622b71f9719e48bb44d212f'), 'item': 'journal', 'qty': 25, 'size': {'h': 14, 'w': 21, 'uom': 'cm'}, 'status': 'A'}\n"
     ]
    }
   ],
   "source": [
    "for records in inventory.find({'size': { 'h': 14, 'w': 21,'uom': \"cm\" }}):\n",
    "    print(records)"
   ]
  },
  {
   "cell_type": "code",
   "execution_count": null,
   "id": "ea55dd5c",
   "metadata": {},
   "outputs": [],
   "source": []
  }
 ],
 "metadata": {
  "kernelspec": {
   "display_name": "Python 3 (ipykernel)",
   "language": "python",
   "name": "python3"
  },
  "language_info": {
   "codemirror_mode": {
    "name": "ipython",
    "version": 3
   },
   "file_extension": ".py",
   "mimetype": "text/x-python",
   "name": "python",
   "nbconvert_exporter": "python",
   "pygments_lexer": "ipython3",
   "version": "3.11.5"
  }
 },
 "nbformat": 4,
 "nbformat_minor": 5
}
